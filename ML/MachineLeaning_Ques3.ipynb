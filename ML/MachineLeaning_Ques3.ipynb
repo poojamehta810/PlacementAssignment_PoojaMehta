{
  "cells": [
    {
      "cell_type": "markdown",
      "id": "39c35612",
      "metadata": {
        "id": "39c35612"
      },
      "source": [
        "## Problem Statement:-\n",
        "\n",
        "**Q3.** Imagine you have a dataset where you have different categories of data, Now\n",
        "you need to find the most similar data to the given data by using any 4 different\n",
        "similarity algorithms. Now you have to build a model which can find the most similar\n",
        "data to the given data.\n",
        "\n",
        "Dataset link :- https://www.kaggle.com/datasets/rmisra/news-category-dataset"
      ]
    },
    {
      "cell_type": "code",
      "execution_count": null,
      "id": "3efffc26",
      "metadata": {
        "id": "3efffc26"
      },
      "outputs": [],
      "source": [
        "import pandas as pd\n",
        "from sklearn.feature_extraction.text import TfidfVectorizer\n",
        "from sklearn.metrics.pairwise import cosine_similarity, euclidean_distances, manhattan_distances"
      ]
    },
    {
      "cell_type": "code",
      "execution_count": null,
      "id": "ff27705a",
      "metadata": {
        "id": "ff27705a"
      },
      "outputs": [],
      "source": [
        "data = pd.read_json(\"News_Category_Dataset_v3.json\", lines=True)"
      ]
    },
    {
      "cell_type": "code",
      "execution_count": null,
      "id": "f7d16691",
      "metadata": {
        "colab": {
          "base_uri": "https://localhost:8080/",
          "height": 756
        },
        "id": "f7d16691",
        "outputId": "3900220c-0374-47bc-9e44-ac2f439bf0b6"
      },
      "outputs": [
        {
          "data": {
            "text/html": [
              "<div>\n",
              "<style scoped>\n",
              "    .dataframe tbody tr th:only-of-type {\n",
              "        vertical-align: middle;\n",
              "    }\n",
              "\n",
              "    .dataframe tbody tr th {\n",
              "        vertical-align: top;\n",
              "    }\n",
              "\n",
              "    .dataframe thead th {\n",
              "        text-align: right;\n",
              "    }\n",
              "</style>\n",
              "<table border=\"1\" class=\"dataframe\">\n",
              "  <thead>\n",
              "    <tr style=\"text-align: right;\">\n",
              "      <th></th>\n",
              "      <th>link</th>\n",
              "      <th>headline</th>\n",
              "      <th>category</th>\n",
              "      <th>short_description</th>\n",
              "      <th>authors</th>\n",
              "      <th>date</th>\n",
              "    </tr>\n",
              "  </thead>\n",
              "  <tbody>\n",
              "    <tr>\n",
              "      <th>0</th>\n",
              "      <td>https://www.huffpost.com/entry/covid-boosters-...</td>\n",
              "      <td>Over 4 Million Americans Roll Up Sleeves For O...</td>\n",
              "      <td>U.S. NEWS</td>\n",
              "      <td>Health experts said it is too early to predict...</td>\n",
              "      <td>Carla K. Johnson, AP</td>\n",
              "      <td>2022-09-23</td>\n",
              "    </tr>\n",
              "    <tr>\n",
              "      <th>1</th>\n",
              "      <td>https://www.huffpost.com/entry/american-airlin...</td>\n",
              "      <td>American Airlines Flyer Charged, Banned For Li...</td>\n",
              "      <td>U.S. NEWS</td>\n",
              "      <td>He was subdued by passengers and crew when he ...</td>\n",
              "      <td>Mary Papenfuss</td>\n",
              "      <td>2022-09-23</td>\n",
              "    </tr>\n",
              "    <tr>\n",
              "      <th>2</th>\n",
              "      <td>https://www.huffpost.com/entry/funniest-tweets...</td>\n",
              "      <td>23 Of The Funniest Tweets About Cats And Dogs ...</td>\n",
              "      <td>COMEDY</td>\n",
              "      <td>\"Until you have a dog you don't understand wha...</td>\n",
              "      <td>Elyse Wanshel</td>\n",
              "      <td>2022-09-23</td>\n",
              "    </tr>\n",
              "    <tr>\n",
              "      <th>3</th>\n",
              "      <td>https://www.huffpost.com/entry/funniest-parent...</td>\n",
              "      <td>The Funniest Tweets From Parents This Week (Se...</td>\n",
              "      <td>PARENTING</td>\n",
              "      <td>\"Accidentally put grown-up toothpaste on my to...</td>\n",
              "      <td>Caroline Bologna</td>\n",
              "      <td>2022-09-23</td>\n",
              "    </tr>\n",
              "    <tr>\n",
              "      <th>4</th>\n",
              "      <td>https://www.huffpost.com/entry/amy-cooper-lose...</td>\n",
              "      <td>Woman Who Called Cops On Black Bird-Watcher Lo...</td>\n",
              "      <td>U.S. NEWS</td>\n",
              "      <td>Amy Cooper accused investment firm Franklin Te...</td>\n",
              "      <td>Nina Golgowski</td>\n",
              "      <td>2022-09-22</td>\n",
              "    </tr>\n",
              "  </tbody>\n",
              "</table>\n",
              "</div>"
            ],
            "text/plain": [
              "                                                link  \\\n",
              "0  https://www.huffpost.com/entry/covid-boosters-...   \n",
              "1  https://www.huffpost.com/entry/american-airlin...   \n",
              "2  https://www.huffpost.com/entry/funniest-tweets...   \n",
              "3  https://www.huffpost.com/entry/funniest-parent...   \n",
              "4  https://www.huffpost.com/entry/amy-cooper-lose...   \n",
              "\n",
              "                                            headline   category  \\\n",
              "0  Over 4 Million Americans Roll Up Sleeves For O...  U.S. NEWS   \n",
              "1  American Airlines Flyer Charged, Banned For Li...  U.S. NEWS   \n",
              "2  23 Of The Funniest Tweets About Cats And Dogs ...     COMEDY   \n",
              "3  The Funniest Tweets From Parents This Week (Se...  PARENTING   \n",
              "4  Woman Who Called Cops On Black Bird-Watcher Lo...  U.S. NEWS   \n",
              "\n",
              "                                   short_description               authors  \\\n",
              "0  Health experts said it is too early to predict...  Carla K. Johnson, AP   \n",
              "1  He was subdued by passengers and crew when he ...        Mary Papenfuss   \n",
              "2  \"Until you have a dog you don't understand wha...         Elyse Wanshel   \n",
              "3  \"Accidentally put grown-up toothpaste on my to...      Caroline Bologna   \n",
              "4  Amy Cooper accused investment firm Franklin Te...        Nina Golgowski   \n",
              "\n",
              "        date  \n",
              "0 2022-09-23  \n",
              "1 2022-09-23  \n",
              "2 2022-09-23  \n",
              "3 2022-09-23  \n",
              "4 2022-09-22  "
            ]
          },
          "execution_count": 8,
          "metadata": {},
          "output_type": "execute_result"
        }
      ],
      "source": [
        "data.head()"
      ]
    },
    {
      "cell_type": "code",
      "execution_count": null,
      "id": "ae1dbbaa",
      "metadata": {
        "id": "ae1dbbaa"
      },
      "outputs": [],
      "source": [
        "data = data[['category', 'headline', 'short_description']]"
      ]
    },
    {
      "cell_type": "code",
      "execution_count": null,
      "id": "8213216e",
      "metadata": {
        "id": "8213216e"
      },
      "outputs": [],
      "source": [
        "data['text'] = data['headline'] + ' ' + data['short_description']"
      ]
    },
    {
      "cell_type": "code",
      "execution_count": null,
      "id": "6bb99b9c",
      "metadata": {
        "id": "6bb99b9c"
      },
      "outputs": [],
      "source": [
        "# Vectorize the text data\n",
        "vectorizer = TfidfVectorizer()\n",
        "X = vectorizer.fit_transform(data['text'])"
      ]
    },
    {
      "cell_type": "code",
      "execution_count": null,
      "id": "6bd713cb",
      "metadata": {
        "id": "6bd713cb"
      },
      "outputs": [],
      "source": [
        "# Function to find the most similar data using different similarity algorithms\n",
        "def find_similar_data(query, top_n=5):\n",
        "    # Vectorize the query\n",
        "    query_vector = vectorizer.transform([query])\n",
        "\n",
        "    # Calculate similarities using different algorithms\n",
        "    cosine_sim = cosine_similarity(X, query_vector).flatten()\n",
        "    euclidean_sim = euclidean_distances(X, query_vector).flatten()\n",
        "    manhattan_sim = manhattan_distances(X, query_vector).flatten()\n",
        "\n",
        "\n",
        "    # Combine similarities from different algorithms\n",
        "    similarity_scores = (cosine_sim + euclidean_sim + manhattan_sim ) / 4\n",
        "\n",
        "    # Find the indices of top similar data points\n",
        "    top_indices = similarity_scores.argsort()[-top_n:][::-1]\n",
        "\n",
        "    # Return the top similar data points\n",
        "    similar_data = data.iloc[top_indices]\n",
        "\n",
        "    return similar_data"
      ]
    },
    {
      "cell_type": "code",
      "execution_count": null,
      "id": "adaca112",
      "metadata": {
        "colab": {
          "base_uri": "https://localhost:8080/"
        },
        "id": "adaca112",
        "outputId": "4b7dd84b-3a14-482e-aa2d-166129332be3"
      },
      "outputs": [
        {
          "name": "stdout",
          "output_type": "stream",
          "text": [
            "         category                          headline  \\\n",
            "109802  WORLDPOST  Weekend Roundup: Laughing at God   \n",
            "66816    POLITICS                    Sunday Roundup   \n",
            "63109    POLITICS                    Sunday Roundup   \n",
            "107893   POLITICS                    Sunday Roundup   \n",
            "64398    POLITICS                    Sunday Roundup   \n",
            "\n",
            "                                        short_description  \\\n",
            "109802  The first principle of an open society is not ...   \n",
            "66816   This week the nation watched as the #NeverTrum...   \n",
            "63109   This week, the nation was reminded, in ways bo...   \n",
            "107893  This week began with \"The Horrible Call\" final...   \n",
            "64398   This week started off with the horror in Orlan...   \n",
            "\n",
            "                                                     text  \n",
            "109802  Weekend Roundup: Laughing at God The first pri...  \n",
            "66816   Sunday Roundup This week the nation watched as...  \n",
            "63109   Sunday Roundup This week, the nation was remin...  \n",
            "107893  Sunday Roundup This week began with \"The Horri...  \n",
            "64398   Sunday Roundup This week started off with the ...  \n"
          ]
        }
      ],
      "source": [
        "# Example usage\n",
        "query = \"New research on climate change\"\n",
        "similar_data = find_similar_data(query)\n",
        "print(similar_data)\n"
      ]
    },
    {
      "cell_type": "code",
      "execution_count": null,
      "id": "cc3d26ad",
      "metadata": {
        "id": "cc3d26ad"
      },
      "outputs": [],
      "source": []
    }
  ],
  "metadata": {
    "colab": {
      "provenance": []
    },
    "kernelspec": {
      "display_name": "Python 3 (ipykernel)",
      "language": "python",
      "name": "python3"
    },
    "language_info": {
      "codemirror_mode": {
        "name": "ipython",
        "version": 3
      },
      "file_extension": ".py",
      "mimetype": "text/x-python",
      "name": "python",
      "nbconvert_exporter": "python",
      "pygments_lexer": "ipython3",
      "version": "3.10.6"
    }
  },
  "nbformat": 4,
  "nbformat_minor": 5
}